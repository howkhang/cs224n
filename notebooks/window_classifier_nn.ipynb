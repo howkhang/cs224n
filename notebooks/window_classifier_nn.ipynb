{
 "cells": [
  {
   "cell_type": "markdown",
   "metadata": {},
   "source": [
    "# Introduction to Neural Networks using NumPy"
   ]
  },
  {
   "cell_type": "markdown",
   "metadata": {},
   "source": [
    "## Resources\n",
    "* Stanford CS224n Lecture 4 (Winter 2018) [Slides](https://web.stanford.edu/class/cs224n/lectures/lecture4.pdf)\n",
    "* Stanford CS224n Lecture 4 (Winter 2017) [Video](https://youtu.be/uc2_iwVqrRI)\n",
    "* Denny Britz's post (2015): [Implementing a Neural Network from Scratch](http://www.wildml.com/2015/09/implementing-a-neural-network-from-scratch/)\n",
    "* Chenglei Si's Gradient calcluation post for CS224n (2018): [Backpropagation](https://medium.com/@sichenglei1125/backpropagation-faa7a0bc6e5c)"
   ]
  },
  {
   "cell_type": "code",
   "execution_count": 1,
   "metadata": {},
   "outputs": [],
   "source": [
    "import numpy as np\n",
    "import random\n",
    "import os\n",
    "import sys\n",
    "import urllib.request\n",
    "\n",
    "from tempfile import gettempdir"
   ]
  },
  {
   "cell_type": "code",
   "execution_count": 2,
   "metadata": {},
   "outputs": [
    {
     "name": "stdout",
     "output_type": "stream",
     "text": [
      "Python 3.5.2 (default, Nov 23 2017, 16:37:01) \n",
      "[GCC 5.4.0 20160609]\n"
     ]
    }
   ],
   "source": [
    "print('Python', sys.version)"
   ]
  },
  {
   "cell_type": "markdown",
   "metadata": {},
   "source": [
    "## Task: Classify whether the center word within a window of words is a location\n",
    "\n",
    "* To build a simple neural network model to illustrate non-linear function approximation, backpropagation and stochastic gradient descent.\n",
    "* Background to the Named Entity Recognition (NER) problem on [Wikipedia](https://en.wikipedia.org/wiki/Named-entity_recognition)\n",
    "* Description of task in Stanford CS224n Lecture 4 [slide 45](https://web.stanford.edu/class/cs224n/lectures/lecture4.pdf#page=45)"
   ]
  },
  {
   "cell_type": "markdown",
   "metadata": {},
   "source": [
    "## Download and read the data from file\n",
    "Tjong Kim Sang et al. [Introduction to the CoNLL-2003 Shared Task: Language-Independent Named Entity Recognition\n",
    "](http://www.aclweb.org/anthology/W03-0419.pdf)"
   ]
  },
  {
   "cell_type": "code",
   "execution_count": 3,
   "metadata": {},
   "outputs": [],
   "source": [
    "def maybe_download(url, filename, expected_bytes):\n",
    "    \"Download the file if not present, and make sure it's the right size.\"    \n",
    "    local_filename = os.path.join(gettempdir(), filename)\n",
    "    if not os.path.exists(local_filename):\n",
    "        local_filename, _ = urllib.request.urlretrieve(url + filename, local_filename)\n",
    "        statinfo = os.stat(local_filename)\n",
    "        if statinfo.st_size == expected_bytes:\n",
    "            print('Found and verified', filename)\n",
    "        else:\n",
    "            print(statinfo.st_size)\n",
    "            raise Exception('Failed to verify ' + local_filename + \n",
    "                            '. Can you get to it with a browser?')\n",
    "    return local_filename\n",
    "\n",
    "\n",
    "def read_data(filename):\n",
    "    \"Reads the eng.train data file from CONLL2003\"\n",
    "    sents, sent_tags = [], []\n",
    "    with open(filename) as f:\n",
    "        dictionary = {'<PAD>': 0}\n",
    "        sent, tags = [], []\n",
    "        for line in f:\n",
    "            if line.startswith('-DOCSTART-'):\n",
    "                continue\n",
    "            if line.startswith('\\n'):\n",
    "                if sent and tags:\n",
    "                    sents.append(sent)\n",
    "                    sent_tags.append(tags)\n",
    "                    sent, tags = [], []\n",
    "                continue\n",
    "            word, _, _, tag = line.split()\n",
    "            sent.append(word)\n",
    "            tags.append(tag)\n",
    "            if not dictionary.get(word):\n",
    "                dictionary[word] = len(dictionary)\n",
    "    reversed_dictionary = dict(zip(dictionary.values(), dictionary.keys()))\n",
    "    return sents, sent_tags, dictionary, reversed_dictionary\n"
   ]
  },
  {
   "cell_type": "code",
   "execution_count": 4,
   "metadata": {},
   "outputs": [],
   "source": [
    "filename = maybe_download(\n",
    "    url='https://raw.githubusercontent.com/patverga/torch-ner-nlp-from-scratch/master/data/conll2003/',\n",
    "    filename='eng.train',\n",
    "    expected_bytes=3283420)"
   ]
  },
  {
   "cell_type": "markdown",
   "metadata": {},
   "source": [
    "Click to view raw text: https://raw.githubusercontent.com/patverga/torch-ner-nlp-from-scratch/master/data/conll2003/eng.train\n",
    "\n",
    "(There appear to be some errors: e.g. The African Football Confederation is tagged as a location?)"
   ]
  },
  {
   "cell_type": "markdown",
   "metadata": {},
   "source": [
    "## Read the data from file and build dictionary"
   ]
  },
  {
   "cell_type": "code",
   "execution_count": 5,
   "metadata": {},
   "outputs": [],
   "source": [
    "\"\"\" sents               : list of sentences (where each sentence is a list of words)\n",
    "    sent_tags           : list of named-entity tags corresponding to each word in sents\n",
    "    dictionary          : maps words(strings) to their IDs(int)\n",
    "    reversed_dictionary : maps IDs(int) to their words(strings)\n",
    "\"\"\"\n",
    "sents, sent_tags, dictionary, reversed_dictionary = read_data(filename)"
   ]
  },
  {
   "cell_type": "code",
   "execution_count": 6,
   "metadata": {},
   "outputs": [
    {
     "name": "stdout",
     "output_type": "stream",
     "text": [
      "Sample sentence: ['EU', 'rejects', 'German', 'call', 'to', 'boycott', 'British', 'lamb', '.'] ['I-ORG', 'O', 'I-MISC', 'O', 'O', 'O', 'I-MISC', 'O', 'O']\n"
     ]
    }
   ],
   "source": [
    "print('Sample sentence:', sents[0], sent_tags[0])"
   ]
  },
  {
   "cell_type": "code",
   "execution_count": 7,
   "metadata": {},
   "outputs": [
    {
     "data": {
      "text/plain": [
       "23624"
      ]
     },
     "execution_count": 7,
     "metadata": {},
     "output_type": "execute_result"
    }
   ],
   "source": [
    "len(dictionary)   # vocabulary size"
   ]
  },
  {
   "cell_type": "markdown",
   "metadata": {},
   "source": [
    "## Prepare word windows for training"
   ]
  },
  {
   "cell_type": "code",
   "execution_count": 8,
   "metadata": {},
   "outputs": [],
   "source": [
    "def prepare_windows(window_size=2):\n",
    "    \"\"\"\n",
    "    Param: window_size (int) for each side of center word\n",
    "    Returns: : tuple (list of +ve windows, list of -ve windows)\n",
    "    \"\"\"\n",
    "    pos_windows, neg_windows = [], []\n",
    "    span = 2*window_size + 1\n",
    "    for sent, tags in zip(sents, sent_tags):\n",
    "        count = len(sent)\n",
    "        # pad sentence at front and end\n",
    "        sent = [0]*window_size + [dictionary[word] for word in sent] + [0]*window_size\n",
    "        for i in range(count):\n",
    "            window = sent[i:i+span]\n",
    "            # positive if center word is tagged as location\n",
    "            if tags[i] in ['B-LOC', 'I-LOC']:\n",
    "                pos_windows.append(window)\n",
    "            else:\n",
    "                neg_windows.append(window)\n",
    "    return pos_windows, neg_windows"
   ]
  },
  {
   "cell_type": "code",
   "execution_count": 9,
   "metadata": {},
   "outputs": [
    {
     "name": "stdout",
     "output_type": "stream",
     "text": [
      "Number of positive windows:  8297\n",
      "Number of negative windows:  195324\n",
      "Sample positive window:  [0, 0, 12, 13, 0] ['<PAD>', '<PAD>', 'BRUSSELS', '1996-08-22', '<PAD>']\n",
      "Sample negative window:  [0, 0, 1, 2, 3] ['<PAD>', '<PAD>', 'EU', 'rejects', 'German']\n"
     ]
    }
   ],
   "source": [
    "pos_windows, neg_windows = prepare_windows(window_size=2)\n",
    "print('Number of positive windows: ', len(pos_windows))\n",
    "print('Number of negative windows: ', len(neg_windows))\n",
    "print('Sample positive window: ', pos_windows[0], [reversed_dictionary[i] for i in pos_windows[0]])\n",
    "print('Sample negative window: ', neg_windows[0], [reversed_dictionary[i] for i in neg_windows[0]])"
   ]
  },
  {
   "cell_type": "markdown",
   "metadata": {},
   "source": [
    "## Set hyperparameter values "
   ]
  },
  {
   "cell_type": "code",
   "execution_count": 10,
   "metadata": {},
   "outputs": [],
   "source": [
    "seed = 0\n",
    "embedding_size = 128     # word embdedding dimension size \n",
    "window_size = 2          # size of window on each side of center word\n",
    "hidden_size = 256        # size of the hidden layer\n",
    "learning_rate = 0.1      # initial learning rate\n",
    "num_epochs = 30          # number of passes over true window samples"
   ]
  },
  {
   "cell_type": "markdown",
   "metadata": {},
   "source": [
    "## Build and train the classifier"
   ]
  },
  {
   "cell_type": "code",
   "execution_count": 11,
   "metadata": {},
   "outputs": [
    {
     "name": "stdout",
     "output_type": "stream",
     "text": [
      "Positive window:  ['Umbria', 'between', 'Rome', 'and', 'Florence'] 7.790065364703469\n",
      "Negative window:  ['slumped', 'against', 'Oncins', ',', 'who'] 8.114010976988057\n",
      "Positive window (after backprop):  ['Umbria', 'between', 'Rome', 'and', 'Florence'] 8.673733827822637\n",
      "Negative window (after backprop):  ['slumped', 'against', 'Oncins', ',', 'who'] 8.259611921357704 \n",
      "\n",
      "Positive window:  [')', ',', 'Trinidad', \"'s\", 'Hasely'] -3.7213851988053177\n",
      "Negative window:  ['paid', 'in', 'full', '.', '<PAD>'] 7.546468880695793\n",
      "Positive window (after backprop):  [')', ',', 'Trinidad', \"'s\", 'Hasely'] 4.768707919668095\n",
      "Negative window (after backprop):  ['paid', 'in', 'full', '.', '<PAD>'] -1.730932377919238 \n",
      "\n",
      "Epoch 1 error:  0.42661604182118\n",
      "Epoch 2 error:  0.07468615968231973\n",
      "Epoch 3 error:  0.05445076275777558\n",
      "Positive window:  ['Public', 'Park', '&', 'Rec', '.'] -4.832648529804965\n",
      "Negative window:  ['be', '\"', 'discrimination', '\"', 'against'] -4.777297126966601\n",
      "Positive window (after backprop):  ['Public', 'Park', '&', 'Rec', '.'] -4.848993040901306\n",
      "Negative window (after backprop):  ['be', '\"', 'discrimination', '\"', 'against'] -4.809281834507953 \n",
      "\n",
      "Epoch 4 error:  0.04460858458726903\n",
      "Positive window:  ['the', 'Parc', 'des', 'Princes', '.'] -15.8239355281701\n",
      "Negative window:  ['27', 'Aug', '26', '<PAD>', '<PAD>'] -15.933433484939316\n",
      "Positive window (after backprop):  ['the', 'Parc', 'des', 'Princes', '.'] -15.868897350975452\n",
      "Negative window (after backprop):  ['27', 'Aug', '26', '<PAD>', '<PAD>'] -16.042816481720518 \n",
      "\n",
      "Epoch 5 error:  0.029483058369466533\n",
      "Positive window:  ['the', 'Vicente', 'Calderon', 'ground', '.'] -15.775077721489659\n",
      "Negative window:  ['British', 'officials', 'said', 'they', 'would'] -15.778319927046692\n",
      "Positive window (after backprop):  ['the', 'Vicente', 'Calderon', 'ground', '.'] -15.776716927184069\n",
      "Negative window (after backprop):  ['British', 'officials', 'said', 'they', 'would'] -15.779984830892495 \n",
      "\n",
      "Epoch 6 error:  0.025902008433605562\n",
      "Positive window:  ['test', 'at', 'The', 'Oval', 'on'] -2.3164343519948427\n",
      "Negative window:  [')', ',', 'Fernando', 'Roca', '('] -2.3164171235692947\n",
      "Positive window (after backprop):  ['test', 'at', 'The', 'Oval', 'on'] -2.316444165384281\n",
      "Negative window (after backprop):  [')', ',', 'Fernando', 'Roca', '('] -2.3164269418448753 \n",
      "\n",
      "Epoch 7 error:  0.033438732732040115\n",
      "Epoch 8 error:  0.033502619455486965\n",
      "Epoch 9 error:  0.024302626063223143\n",
      "Positive window:  ['to', 'sign', 'Croatia-Yugoslavia', 'treaty', '.'] -11.28250692310524\n",
      "Negative window:  ['<PAD>', 'Attendance', ':', '800', '<PAD>'] -11.284026988250616\n",
      "Positive window (after backprop):  ['to', 'sign', 'Croatia-Yugoslavia', 'treaty', '.'] -11.283777915409228\n",
      "Negative window (after backprop):  ['<PAD>', 'Attendance', ':', '800', '<PAD>'] -11.285304700032825 \n",
      "\n",
      "Epoch 10 error:  0.024492995587968067\n",
      "Positive window:  ['<PAD>', 'Griqualand', 'West', '-', 'Tries'] 10.47023213715323\n",
      "Negative window:  ['at', 'Parkway', 'Middle', 'School', 'Monday'] 10.461590313200178\n",
      "Positive window (after backprop):  ['<PAD>', 'Griqualand', 'West', '-', 'Tries'] 10.47023041124779\n",
      "Negative window (after backprop):  ['at', 'Parkway', 'Middle', 'School', 'Monday'] 10.455781376497423 \n",
      "\n",
      "Epoch 11 error:  0.028791636062256733\n",
      "Positive window:  ['SEATTLE', 'AT', 'BALTIMORE', '<PAD>', '<PAD>'] 12.136950909577532\n",
      "Negative window:  ['out', 'the', 'San', 'Francisco', 'Giants'] 12.135082308183295\n",
      "Positive window (after backprop):  ['SEATTLE', 'AT', 'BALTIMORE', '<PAD>', '<PAD>'] 12.137826317787198\n",
      "Negative window (after backprop):  ['out', 'the', 'San', 'Francisco', 'Giants'] 12.135912468085234 \n",
      "\n",
      "Epoch 12 error:  0.03103619079574014\n",
      "Positive window:  ['of', 'the', 'Russian', 'Federation', '.'] -13.996759911342927\n",
      "Negative window:  ['had', 'cleared', 'customs', '--', 'which'] -13.996734218896798\n",
      "Positive window (after backprop):  ['of', 'the', 'Russian', 'Federation', '.'] -13.996738118660508\n",
      "Negative window (after backprop):  ['had', 'cleared', 'customs', '--', 'which'] -13.996712432024388 \n",
      "\n",
      "Epoch 13 error:  0.02270843149799846\n",
      "Positive window:  ['<PAD>', '<PAD>', 'ST', 'HELENS', ','] -15.216168156476495\n",
      "Negative window:  ['21', '15', '1', '5', '2123'] -15.219877034477445\n",
      "Positive window (after backprop):  ['<PAD>', '<PAD>', 'ST', 'HELENS', ','] -15.21813219745626\n",
      "Negative window (after backprop):  ['21', '15', '1', '5', '2123'] -15.221883436792982 \n",
      "\n",
      "Epoch 14 error:  0.023556699432185503\n",
      "Positive window:  ['of', 'the', 'Amazon', 'in', 'a'] -18.246537555202682\n",
      "Negative window:  ['leaders', 'called', 'the', 'strike', ','] -18.246822150897916\n",
      "Positive window (after backprop):  ['of', 'the', 'Amazon', 'in', 'a'] -18.24667108636582\n",
      "Negative window (after backprop):  ['leaders', 'called', 'the', 'strike', ','] -18.246955912037368 \n",
      "\n",
      "Positive window:  ['sales', 'from', 'Hungary', '.', '<PAD>'] 7.145787296696593\n",
      "Negative window:  ['CRUCES', ',', 'N.M.', '1996-08-22', '<PAD>'] 7.1364490036019355\n",
      "Positive window (after backprop):  ['sales', 'from', 'Hungary', '.', '<PAD>'] 7.296923552860521\n",
      "Negative window (after backprop):  ['CRUCES', ',', 'N.M.', '1996-08-22', '<PAD>'] 7.030622518046217 \n",
      "\n",
      "Epoch 15 error:  0.026427523169936837\n",
      "Epoch 16 error:  0.025023480456837843\n",
      "Positive window:  ['<PAD>', '<PAD>', 'IRAQ', '<PAD>', '<PAD>'] -13.702721090773146\n",
      "Negative window:  ['<PAD>', '<PAD>', 'Warwickshire', '13', '6'] -13.702706714270343\n",
      "Positive window (after backprop):  ['<PAD>', '<PAD>', 'IRAQ', '<PAD>', '<PAD>'] -13.702710815842696\n",
      "Negative window (after backprop):  ['<PAD>', '<PAD>', 'Warwickshire', '13', '6'] -13.702696440176787 \n",
      "\n",
      "Epoch 17 error:  0.026218973315586435\n",
      "Positive window:  ['event', 'in', 'Culpepper', ',', 'Virginia'] 9.125293877930943\n",
      "Negative window:  ['sweep', 'of', 'New', 'York', 'with'] 9.025266574759385\n",
      "Positive window (after backprop):  ['event', 'in', 'Culpepper', ',', 'Virginia'] 9.10448623521027\n",
      "Negative window (after backprop):  ['sweep', 'of', 'New', 'York', 'with'] 8.918407493065466 \n",
      "\n",
      "Positive window:  ['Gumy', '(', 'Argentina', ')', 'beat'] 9.985229845987007\n",
      "Negative window:  ['<PAD>', '<PAD>', 'SAN', 'FRANCISCO', '54'] 9.580746998813055\n",
      "Positive window (after backprop):  ['Gumy', '(', 'Argentina', ')', 'beat'] 10.655141821941179\n",
      "Negative window (after backprop):  ['<PAD>', '<PAD>', 'SAN', 'FRANCISCO', '54'] 7.674666346504905 \n",
      "\n",
      "Positive window:  ['the', 'Place', 'Beauvau', '(', 'the'] -11.627449982892152\n",
      "Negative window:  ['details', 'about', 'the', 'cause', 'of'] -11.627758757557203\n",
      "Positive window (after backprop):  ['the', 'Place', 'Beauvau', '(', 'the'] -11.627666586659661\n",
      "Negative window (after backprop):  ['details', 'about', 'the', 'cause', 'of'] -11.627975882306702 \n",
      "\n",
      "Epoch 18 error:  0.02542066078486117\n",
      "Positive window:  ['the', 'Florentine', 'Guelfs', 'at', 'the'] -14.606054215826465\n",
      "Negative window:  ['prefix', 'number', 'denotes', 'seeding', ')'] -14.606135684675586\n",
      "Positive window (after backprop):  ['the', 'Florentine', 'Guelfs', 'at', 'the'] -14.606177726159048\n",
      "Negative window (after backprop):  ['prefix', 'number', 'denotes', 'seeding', ')'] -14.60625950491378 \n",
      "\n",
      "Epoch 19 error:  0.03028722190529183\n",
      "Epoch 20 error:  0.028095478886272056\n",
      "Epoch 21 error:  0.026987977500719806\n",
      "Positive window:  ['Islamic', 'Republic', 'of', 'Iran', 'has'] -3.5569427007705317\n",
      "Negative window:  [',', 'accused', 'the', 'BNP', 'of'] -3.556942700791437\n",
      "Positive window (after backprop):  ['Islamic', 'Republic', 'of', 'Iran', 'has'] -3.556942700754001\n",
      "Negative window (after backprop):  [',', 'accused', 'the', 'BNP', 'of'] -3.556942700774906 \n",
      "\n",
      "Epoch 22 error:  0.02264478380516945\n",
      "Positive window:  ['<PAD>', '<PAD>', 'Zadar', 'police', 'said'] 11.194290547615644\n",
      "Negative window:  ['-', 'Toyota', 'Australia', 'workers', 'to'] 11.208263383148898\n",
      "Positive window (after backprop):  ['<PAD>', '<PAD>', 'Zadar', 'police', 'said'] 11.18602027234025\n",
      "Negative window (after backprop):  ['-', 'Toyota', 'Australia', 'workers', 'to'] 11.199246940966358 \n",
      "\n",
      "Positive window:  ['Cricket', '-', 'NZ', 'face', 'tough'] 12.292245412618081\n",
      "Negative window:  ['Bulldogs', '17', 'South', 'Queensland', '16'] 12.292847593083367\n",
      "Positive window (after backprop):  ['Cricket', '-', 'NZ', 'face', 'tough'] 12.291857875485949\n",
      "Negative window (after backprop):  ['Bulldogs', '17', 'South', 'Queensland', '16'] 12.292458769185082 \n",
      "\n"
     ]
    },
    {
     "name": "stdout",
     "output_type": "stream",
     "text": [
      "Epoch 23 error:  0.020854775554744135\n",
      "Positive window:  ['\"', 'Nirmal', 'Hriday', '\"', '('] -14.371113325527602\n",
      "Negative window:  ['Advanced', 'Medical', 'and', 'IMED', 'president'] -14.37111724109667\n",
      "Positive window (after backprop):  ['\"', 'Nirmal', 'Hriday', '\"', '('] -14.371116621123516\n",
      "Negative window (after backprop):  ['Advanced', 'Medical', 'and', 'IMED', 'president'] -14.371120536745586 \n",
      "\n",
      "Epoch 24 error:  0.02133358801927359\n",
      "Epoch 25 error:  0.02759124600007012\n",
      "Positive window:  ['\"', 'Nirmal', 'Hriday', '\"', '('] -11.106694954388153\n",
      "Negative window:  ['on', 'the', 'ground', 'reached', '62'] -11.106684609554504\n",
      "Positive window (after backprop):  ['\"', 'Nirmal', 'Hriday', '\"', '('] -11.106683365880967\n",
      "Negative window (after backprop):  ['on', 'the', 'ground', 'reached', '62'] -11.106673021783493 \n",
      "\n",
      "Positive window:  ['Queen', 'of', 'the', 'Angels', ')'] 1.6613654966040468\n",
      "Negative window:  ['published', 'in', 'the', 'Oct.', '1'] 1.66136549630725\n",
      "Positive window (after backprop):  ['Queen', 'of', 'the', 'Angels', ')'] 1.661365496784923\n",
      "Negative window (after backprop):  ['published', 'in', 'the', 'Oct.', '1'] 1.6613654964881268 \n",
      "\n",
      "Epoch 26 error:  0.023620535874317422\n",
      "Epoch 27 error:  0.02543733268075822\n",
      "Epoch 28 error:  0.021429155113689164\n",
      "Positive window:  ['<PAD>', '<PAD>', 'IRAQ', '<PAD>', '<PAD>'] -15.418615397608349\n",
      "Negative window:  ['tabulate', 'under', 'won', ',', '<PAD>'] -15.41861561464328\n",
      "Positive window (after backprop):  ['<PAD>', '<PAD>', 'IRAQ', '<PAD>', '<PAD>'] -15.41861554100642\n",
      "Negative window (after backprop):  ['tabulate', 'under', 'won', ',', '<PAD>'] -15.418615758041543 \n",
      "\n",
      "Positive window:  ['<PAD>', '<PAD>', 'Koeln', '(', 'Cologne'] -15.884946286932266\n",
      "Negative window:  ['of', 'the', 'season', '.', '<PAD>'] -15.884932721572804\n",
      "Positive window (after backprop):  ['<PAD>', '<PAD>', 'Koeln', '(', 'Cologne'] -15.884937444237835\n",
      "Negative window (after backprop):  ['of', 'the', 'season', '.', '<PAD>'] -15.88492387954921 \n",
      "\n",
      "Epoch 29 error:  0.023725823879388014\n",
      "Positive window:  ['Great', 'Hall', 'of', 'the', 'People'] -10.774070137431602\n",
      "Negative window:  ['and', 'mother', 'of', 'pearl', 'inlaid'] -10.774070137426435\n",
      "Positive window (after backprop):  ['Great', 'Hall', 'of', 'the', 'People'] -10.774070137424129\n",
      "Negative window (after backprop):  ['and', 'mother', 'of', 'pearl', 'inlaid'] -10.774070137418967 \n",
      "\n",
      "Positive window:  ['<PAD>', 'The', 'African', 'Football', 'Confederation'] -10.76402578271992\n",
      "Negative window:  ['the', 'case', 'was', 'linked', 'to'] -10.764029397339637\n",
      "Positive window (after backprop):  ['<PAD>', 'The', 'African', 'Football', 'Confederation'] -10.7640296377414\n",
      "Negative window (after backprop):  ['the', 'case', 'was', 'linked', 'to'] -10.764033252412275 \n",
      "\n",
      "Epoch 30 error:  0.025485205147946895\n"
     ]
    }
   ],
   "source": [
    "\"\"\" This code trains a simple neural network as a binary classifier. \n",
    "    The model calculates a score when it is given a window of words. \n",
    "    The score is used to determine whether the center word in the\n",
    "    window is a location or not.\n",
    "\"\"\"\n",
    "\n",
    "np.random.seed(seed)\n",
    "vocab_size = len(dictionary)\n",
    "x_dim = embedding_size * (2*window_size + 1)\n",
    "\n",
    "# Initialize model parameters \n",
    "embeddings = np.random.uniform(-0.5, 0.5, (vocab_size, embedding_size))\n",
    "W = np.random.randn(x_dim, hidden_size) * np.sqrt(1.0/x_dim)\n",
    "b = np.zeros(hidden_size)\n",
    "u = np.random.randn(hidden_size)\n",
    "\n",
    "average_error = 0\n",
    "\n",
    "# Training loop\n",
    "for epoch in range(num_epochs):\n",
    "    for i, pos_window in enumerate(pos_windows):\n",
    "        neg_window = random.sample(neg_windows, k=1) # s_c\n",
    "        inputs = np.vstack((pos_window, neg_window)) # stack as matrix\n",
    "        X = embeddings[inputs].reshape(-1, x_dim)    # concat the words\n",
    "        \n",
    "        # Forward pass    \n",
    "        z = X.dot(W) + b                # affine transformation\n",
    "        a = 1. / (1. + np.exp(-z))      # non-linearity (sigmoid)\n",
    "        scores = a.dot(u)               # scalar unnormalized scores\n",
    "\n",
    "        # Max-margin objective\n",
    "        error = 1 if max(0, 1 - scores[0] + scores[1]) > 0 else 0\n",
    "        \n",
    "        # Backward pass (no updating if error is 0)\n",
    "        # See Algorithm 6.4 of http://www.deeplearningbook.org/contents/mlp.html\n",
    "        # Also https://medium.com/@sichenglei1125/backpropagation-faa7a0bc6e5c\n",
    "        grad_u = error * (a[1] - a[0])  # gradient for u\n",
    "        delta =  u * (a*(1 - a))        # multiply with sigmoid derivative\n",
    "        delta[0] = -delta[0]            # flip sign for gradient contributing to pos window\n",
    "        grad_W = X.T.dot(delta)         # gradient for W\n",
    "        grad_b = delta.sum(axis=0)      # gradient for b\n",
    "        grad_X = delta.dot(W.T)         # gradient for the word vectors\n",
    "        grad_X = grad_X.reshape(-1, 2*window_size + 1, embedding_size)                                \n",
    "        \n",
    "        # Parameter updates using gradient descent\n",
    "        u -= learning_rate * grad_u\n",
    "        W -= learning_rate * grad_W\n",
    "        b -= learning_rate * grad_b\n",
    "        embeddings[inputs] -= learning_rate * grad_X\n",
    "        \n",
    "        # Keep track of any errors\n",
    "        if error == 1: \n",
    "            average_error += 1 - scores[0] + scores[1]\n",
    "            # For every 200 errors, pick 1 to print\n",
    "            if random.random() < 0.005:\n",
    "                print('Positive window: ', \n",
    "                      [reversed_dictionary[i] for i in pos_window], scores[0])\n",
    "                print('Negative window: ', \n",
    "                      [reversed_dictionary[i] for i in neg_window[0]], scores[1])                \n",
    "                X = embeddings[inputs].reshape(-1, x_dim)\n",
    "                z = X.dot(W) + b\n",
    "                a = 1. / (1. + np.exp(-z))\n",
    "                scores = a.dot(u)\n",
    "                print('Positive window (after backprop): ', \n",
    "                      [reversed_dictionary[i] for i in pos_window], scores[0])\n",
    "                print('Negative window (after backprop): ', \n",
    "                      [reversed_dictionary[i] for i in neg_window[0]], scores[1], '\\n')\n",
    "\n",
    "    # Print average error per epoch\n",
    "    print('Epoch', epoch + 1, 'error: ', average_error / i)\n",
    "    \n",
    "    # Stop training when average error is low enough\n",
    "    if average_error / i < 0.01:\n",
    "        break\n",
    "    \n",
    "    average_error = 0\n",
    "        \n",
    "    # Decay learning rate exponentially every epoch\n",
    "    learning_rate = learning_rate * 0.999\n"
   ]
  },
  {
   "cell_type": "code",
   "execution_count": 12,
   "metadata": {},
   "outputs": [
    {
     "name": "stdout",
     "output_type": "stream",
     "text": [
      "Max: 10.34201227380021 Min: -10.80154501144774 Mean: 9.98605154511056 Median: 10.341150870076595\n"
     ]
    }
   ],
   "source": [
    "# score statistics for all the positive windows in the training set\n",
    "X_test = embeddings[pos_windows].reshape(-1, x_dim)\n",
    "z_test = X_test.dot(W) + b\n",
    "a_test = 1. / (1. + np.exp(-z_test))\n",
    "score_test = a_test.dot(u)\n",
    "print('Max:', np.max(score_test), 'Min:', np.min(score_test), \n",
    "      'Mean:', np.mean(score_test), 'Median:', np.median(score_test))"
   ]
  },
  {
   "cell_type": "code",
   "execution_count": 13,
   "metadata": {},
   "outputs": [
    {
     "name": "stdout",
     "output_type": "stream",
     "text": [
      "Max: 10.34115294254265 Min: -10.871716617564262 Mean: -10.664492594838745 Median: -10.80154499798712\n"
     ]
    }
   ],
   "source": [
    "# score statistics for all the negative windows in the training set\n",
    "X_test = embeddings[neg_windows].reshape(-1, x_dim)\n",
    "z_test = X_test.dot(W) + b\n",
    "a_test = 1. / (1. + np.exp(-z_test))\n",
    "score_test = a_test.dot(u)\n",
    "print('Max:', np.max(score_test), 'Min:', np.min(score_test), \n",
    "      'Mean:', np.mean(score_test), 'Median:', np.median(score_test))"
   ]
  },
  {
   "cell_type": "code",
   "execution_count": 14,
   "metadata": {},
   "outputs": [
    {
     "name": "stdout",
     "output_type": "stream",
     "text": [
      "Positive window (\"shops in Paris are amazing\") score: 10.341152892687347\n",
      "Negative window (\"not all shops in Paris\") score: -10.798703471946109\n"
     ]
    }
   ],
   "source": [
    "pos_sent = [dictionary[word] for word in 'shops in Paris are amazing'.split()]\n",
    "neg_sent = [dictionary[word] for word in 'not all shops in Paris'.split()]\n",
    "\n",
    "word_ids = np.vstack((pos_sent, neg_sent))\n",
    "\n",
    "X_test = embeddings[word_ids].reshape(-1, x_dim)\n",
    "z_test = X_test.dot(W) + b\n",
    "a_test = 1. / (1. + np.exp(-z_test))\n",
    "scores_test = a_test.dot(u)\n",
    "print('Positive window (\"shops in Paris are amazing\") score:', scores_test[0])\n",
    "print('Negative window (\"not all shops in Paris\") score:', scores_test[1])"
   ]
  }
 ],
 "metadata": {
  "kernelspec": {
   "display_name": "Python 3",
   "language": "python",
   "name": "python3"
  },
  "language_info": {
   "codemirror_mode": {
    "name": "ipython",
    "version": 3
   },
   "file_extension": ".py",
   "mimetype": "text/x-python",
   "name": "python",
   "nbconvert_exporter": "python",
   "pygments_lexer": "ipython3",
   "version": "3.5.2"
  }
 },
 "nbformat": 4,
 "nbformat_minor": 2
}
